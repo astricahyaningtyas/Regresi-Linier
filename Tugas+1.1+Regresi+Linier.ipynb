{
 "cells": [
  {
   "cell_type": "markdown",
   "metadata": {},
   "source": [
    "Tugas 1.1 - REGRESI LINIER\n",
    "----------------------------\n",
    "Nama : Astri Cahyaningtyas\n",
    "\n",
    "Kelas : IF-39-02\n",
    "\n",
    "NIM : 1301154548"
   ]
  },
  {
   "cell_type": "code",
   "execution_count": 167,
   "metadata": {
    "collapsed": true
   },
   "outputs": [],
   "source": [
    "import numpy as np\n",
    "np.set_printoptions(precision=4, suppress=True)\n",
    "import pandas as pd"
   ]
  },
  {
   "cell_type": "markdown",
   "metadata": {},
   "source": [
    "Load Data Training Set"
   ]
  },
  {
   "cell_type": "code",
   "execution_count": 117,
   "metadata": {},
   "outputs": [],
   "source": [
    "def load_data(filename):\n",
    "    dtrain = pd.read_csv(filename, delimiter =',').as_matrix()\n",
    "    X = dtrain[:,0:1]\n",
    "    Y = dtrain[:,-1:]\n",
    "    return X,Y\n",
    "\n",
    "X_train_1, Y_train_1 = load_data('training_set_1.csv')\n",
    "\n",
    "#print(X_train_1)\n",
    "#print(Y_train_1)"
   ]
  },
  {
   "cell_type": "markdown",
   "metadata": {},
   "source": [
    "Question 1\n",
    "=====\n",
    "\n",
    "Jika dibangun model regresi $y_i=f(x_i )=w_0+w_1 x_i+w_2 x_i^2+w_3 x_i^3$\n",
    "maka dihasilkan prakiraan weight vector $w = (w_0, w_1, w_2, w_3) = (1.089, 0.840, 0.943, 3.111)$"
   ]
  },
  {
   "cell_type": "markdown",
   "metadata": {},
   "source": [
    "Bangun Matrix X berdasarkan model regresi\n",
    "\n",
    "$y_i=f(x_i )=w_0+w_1 x_i+w_2 x_i^2+w_3 x_i^3$"
   ]
  },
  {
   "cell_type": "code",
   "execution_count": 169,
   "metadata": {},
   "outputs": [
    {
     "data": {
      "text/plain": [
       "array([[  1.    ,  -2.907 ,   8.4506, -24.566 ],\n",
       "       [  1.    ,  -2.745 ,   7.535 , -20.6836],\n",
       "       [  1.    ,  -2.637 ,   6.9538, -18.3371],\n",
       "       [  1.    ,  -2.42  ,   5.8564, -14.1725],\n",
       "       [  1.    ,  -2.276 ,   5.1802, -11.7901],\n",
       "       [  1.    ,  -2.101 ,   4.4142,  -9.2742],\n",
       "       [  1.    ,  -1.973 ,   3.8927,  -7.6804],\n",
       "       [  1.    ,  -1.857 ,   3.4484,  -6.4038],\n",
       "       [  1.    ,  -1.643 ,   2.6994,  -4.4352],\n",
       "       [  1.    ,  -1.408 ,   1.9825,  -2.7913],\n",
       "       [  1.    ,  -1.248 ,   1.5575,  -1.9438],\n",
       "       [  1.    ,  -0.963 ,   0.9274,  -0.8931],\n",
       "       [  1.    ,  -0.766 ,   0.5868,  -0.4495],\n",
       "       [  1.    ,  -0.654 ,   0.4277,  -0.2797],\n",
       "       [  1.    ,  -0.494 ,   0.244 ,  -0.1206],\n",
       "       [  1.    ,  -0.43  ,   0.1849,  -0.0795],\n",
       "       [  1.    ,  -0.277 ,   0.0767,  -0.0213],\n",
       "       [  1.    ,  -0.108 ,   0.0117,  -0.0013],\n",
       "       [  1.    ,   0.112 ,   0.0125,   0.0014],\n",
       "       [  1.    ,   0.235 ,   0.0552,   0.013 ],\n",
       "       [  1.    ,   0.498 ,   0.248 ,   0.1235],\n",
       "       [  1.    ,   0.566 ,   0.3204,   0.1813],\n",
       "       [  1.    ,   0.869 ,   0.7552,   0.6562],\n",
       "       [  1.    ,   0.958 ,   0.9178,   0.8792],\n",
       "       [  1.    ,   1.015 ,   1.0302,   1.0457],\n",
       "       [  1.    ,   1.207 ,   1.4568,   1.7584],\n",
       "       [  1.    ,   1.427 ,   2.0363,   2.9058],\n",
       "       [  1.    ,   1.905 ,   3.629 ,   6.9133],\n",
       "       [  1.    ,   1.946 ,   3.7869,   7.3693],\n",
       "       [  1.    ,   2.133 ,   4.5497,   9.7045],\n",
       "       [  1.    ,   2.438 ,   5.9438,  14.4911],\n",
       "       [  1.    ,   2.71  ,   7.3441,  19.9025],\n",
       "       [  1.    ,   2.896 ,   8.3868,  24.2882],\n",
       "       [  1.    ,   2.994 ,   8.964 ,  26.8383]])"
      ]
     },
     "execution_count": 169,
     "metadata": {},
     "output_type": "execute_result"
    }
   ],
   "source": [
    "def model_regresi_1(X_train_1):\n",
    "    X_ones = np.ones((X_train_1.shape[0],1))\n",
    "    return np.hstack((X_ones , X_train_1 , X_train_1**2 , X_train_1**3)) \n",
    "    \n",
    "X_matrix_1 = model_regresi_1(X_train_1)\n",
    "X_matrix_1"
   ]
  },
  {
   "cell_type": "markdown",
   "metadata": {},
   "source": [
    "Normal Equation\n",
    "\n",
    "$w=(x^T  x)^(-1) x^T y $\n"
   ]
  },
  {
   "cell_type": "code",
   "execution_count": 119,
   "metadata": {},
   "outputs": [
    {
     "data": {
      "text/plain": [
       "array([[ 1.0894],\n",
       "       [-0.8402],\n",
       "       [-0.9432],\n",
       "       [-3.1117]])"
      ]
     },
     "execution_count": 119,
     "metadata": {},
     "output_type": "execute_result"
    }
   ],
   "source": [
    "def normal_equation(X_matrix_1,Y_train_1):\n",
    "    Xt = X_matrix_1.conj().transpose()\n",
    "    return np.linalg.pinv(Xt.dot(X_matrix_1)).dot(Xt).dot(Y_train_1)\n",
    "\n",
    "w_1 = normal_equation(X_matrix_1, Y_train_1)\n",
    "w_1"
   ]
  },
  {
   "cell_type": "markdown",
   "metadata": {},
   "source": [
    "Answer 1\n",
    "====\n",
    "\n",
    "B"
   ]
  },
  {
   "cell_type": "markdown",
   "metadata": {},
   "source": [
    "Question 2\n",
    "=====\n",
    "\n",
    "Salah satu model regresi multivariate linear adalah $y_i = f(x_i) = (0.4x_i + 3,1)$, dan jika digunakan\n",
    "maka SSEtrain = 43454,587."
   ]
  },
  {
   "cell_type": "markdown",
   "metadata": {},
   "source": [
    "Answer 2\n",
    "====\n",
    "\n",
    "S"
   ]
  },
  {
   "cell_type": "markdown",
   "metadata": {},
   "source": [
    "Question 3\n",
    "=====\n",
    "\n",
    "Regresi multivariate non-linear dan regresi univariate linear keduanya lebih baik daripada regresi\n",
    "univariate non-linear jika digunakan untuk pemodelan training set 1."
   ]
  },
  {
   "cell_type": "markdown",
   "metadata": {},
   "source": [
    "Answer3\n",
    "====\n",
    "\n",
    "S"
   ]
  },
  {
   "cell_type": "markdown",
   "metadata": {},
   "source": [
    "Question 4\n",
    "=====\n",
    "\n",
    "Jika menggunakan model regresi $y_i = f(x_i) = 21.274 - 10.608x_i + 0.921x_2i$\n",
    "untuk 5 record/data tes (xi, yi) secara berurutan antara lain (x1, y1) = $(-2.864, 73.128), (x2, y2) = (1.489, 20.271), (x3, y3) = (-0.235,-3.220), (x4, y4) = (1.092, 0.347),$ dan $(x5, y5) = (2.898,-75.691)$ maka didapatkan SSEtes = 8686.216."
   ]
  },
  {
   "cell_type": "code",
   "execution_count": 127,
   "metadata": {},
   "outputs": [
    {
     "data": {
      "text/plain": [
       "7286.820691689777"
      ]
     },
     "execution_count": 127,
     "metadata": {},
     "output_type": "execute_result"
    }
   ],
   "source": [
    "y_1 = 73.128\n",
    "y_2 = 20.271\n",
    "y_3 = -3.220\n",
    "y_4 = 0.347\n",
    "y_5 = -75.691\n",
    "\n",
    "y_test_1 = 21.274 - (10.608 * (-2.864)) + (0.921 * (-2.864**2))\n",
    "y_test_2 = 21.274 - (10.608 * 1.489) + (0.921 * (1.489**2))\n",
    "y_test_3 = 21.274 - (10.608 * (-0.235)) + (0.921 * (-0.235**2))\n",
    "y_test_4 = 21.274 - (10.608 * 1.092) + (0.921 * (-0.235**2))\n",
    "y_test_5 = 21.274 - (10.608 * 2.898) + (0.921 * (2.898**2))\n",
    "\n",
    "sse_5 = ((y_test_1-y_1)**2)+((y_test_2-y_2)**2)+((y_test_3-y_3)**2)+((y_test_4-y_4)**2)+((y_test_5-y_5)**2)\n",
    "sse_5"
   ]
  },
  {
   "cell_type": "markdown",
   "metadata": {},
   "source": [
    "Answer 4\n",
    "====\n",
    "\n",
    "S"
   ]
  },
  {
   "cell_type": "markdown",
   "metadata": {},
   "source": [
    "Question 5\n",
    "=====\n",
    "\n",
    "Jika dibangun model regresi $y_i = f(x_i) = w_xi + a$ maka $w = -18.757$ dan $a = -2.745$"
   ]
  },
  {
   "cell_type": "code",
   "execution_count": 123,
   "metadata": {},
   "outputs": [
    {
     "data": {
      "text/plain": [
       "array([[-2.907,  1.   ],\n",
       "       [-2.745,  1.   ],\n",
       "       [-2.637,  1.   ],\n",
       "       [-2.42 ,  1.   ],\n",
       "       [-2.276,  1.   ],\n",
       "       [-2.101,  1.   ],\n",
       "       [-1.973,  1.   ],\n",
       "       [-1.857,  1.   ],\n",
       "       [-1.643,  1.   ],\n",
       "       [-1.408,  1.   ],\n",
       "       [-1.248,  1.   ],\n",
       "       [-0.963,  1.   ],\n",
       "       [-0.766,  1.   ],\n",
       "       [-0.654,  1.   ],\n",
       "       [-0.494,  1.   ],\n",
       "       [-0.43 ,  1.   ],\n",
       "       [-0.277,  1.   ],\n",
       "       [-0.108,  1.   ],\n",
       "       [ 0.112,  1.   ],\n",
       "       [ 0.235,  1.   ],\n",
       "       [ 0.498,  1.   ],\n",
       "       [ 0.566,  1.   ],\n",
       "       [ 0.869,  1.   ],\n",
       "       [ 0.958,  1.   ],\n",
       "       [ 1.015,  1.   ],\n",
       "       [ 1.207,  1.   ],\n",
       "       [ 1.427,  1.   ],\n",
       "       [ 1.905,  1.   ],\n",
       "       [ 1.946,  1.   ],\n",
       "       [ 2.133,  1.   ],\n",
       "       [ 2.438,  1.   ],\n",
       "       [ 2.71 ,  1.   ],\n",
       "       [ 2.896,  1.   ],\n",
       "       [ 2.994,  1.   ]])"
      ]
     },
     "execution_count": 123,
     "metadata": {},
     "output_type": "execute_result"
    }
   ],
   "source": [
    "def model_regresi_5(X_train_1):\n",
    "    X_ones = np.ones((X_train_1.shape[0],1))\n",
    "    return np.hstack((X_train_1, X_ones)) \n",
    "    \n",
    "X_matrix_5 = model_regresi_5(X_train_1)\n",
    "X_matrix_5"
   ]
  },
  {
   "cell_type": "code",
   "execution_count": 124,
   "metadata": {},
   "outputs": [
    {
     "data": {
      "text/plain": [
       "array([[-18.7566],\n",
       "       [ -2.745 ]])"
      ]
     },
     "execution_count": 124,
     "metadata": {},
     "output_type": "execute_result"
    }
   ],
   "source": [
    "def normal_equation_5(X_matrix_5,Y_train_1):\n",
    "    Xt = X_matrix_5.conj().transpose()\n",
    "    return np.linalg.pinv(Xt.dot(X_matrix_5)).dot(Xt).dot(Y_train_1)\n",
    "\n",
    "w_5 = normal_equation(X_matrix_5, Y_train_1)\n",
    "w_5"
   ]
  },
  {
   "cell_type": "markdown",
   "metadata": {},
   "source": [
    "Answer 5\n",
    "====\n",
    "\n",
    "B"
   ]
  },
  {
   "cell_type": "markdown",
   "metadata": {},
   "source": [
    "Question 6\n",
    "=====\n",
    "\n",
    "Jika dibangun model regresi $y_i = f(x_i) = w_0 + w_1 x_i + w_2 x_i^2$ maka dihasilkan prakiraan weight vector $w = (w_0,w_1,w_2) = (1.590,-17.824,-4.118)$"
   ]
  },
  {
   "cell_type": "code",
   "execution_count": 120,
   "metadata": {},
   "outputs": [
    {
     "data": {
      "text/plain": [
       "array([[ 1.    , -2.907 ,  8.4506],\n",
       "       [ 1.    , -2.745 ,  7.535 ],\n",
       "       [ 1.    , -2.637 ,  6.9538],\n",
       "       [ 1.    , -2.42  ,  5.8564],\n",
       "       [ 1.    , -2.276 ,  5.1802],\n",
       "       [ 1.    , -2.101 ,  4.4142],\n",
       "       [ 1.    , -1.973 ,  3.8927],\n",
       "       [ 1.    , -1.857 ,  3.4484],\n",
       "       [ 1.    , -1.643 ,  2.6994],\n",
       "       [ 1.    , -1.408 ,  1.9825],\n",
       "       [ 1.    , -1.248 ,  1.5575],\n",
       "       [ 1.    , -0.963 ,  0.9274],\n",
       "       [ 1.    , -0.766 ,  0.5868],\n",
       "       [ 1.    , -0.654 ,  0.4277],\n",
       "       [ 1.    , -0.494 ,  0.244 ],\n",
       "       [ 1.    , -0.43  ,  0.1849],\n",
       "       [ 1.    , -0.277 ,  0.0767],\n",
       "       [ 1.    , -0.108 ,  0.0117],\n",
       "       [ 1.    ,  0.112 ,  0.0125],\n",
       "       [ 1.    ,  0.235 ,  0.0552],\n",
       "       [ 1.    ,  0.498 ,  0.248 ],\n",
       "       [ 1.    ,  0.566 ,  0.3204],\n",
       "       [ 1.    ,  0.869 ,  0.7552],\n",
       "       [ 1.    ,  0.958 ,  0.9178],\n",
       "       [ 1.    ,  1.015 ,  1.0302],\n",
       "       [ 1.    ,  1.207 ,  1.4568],\n",
       "       [ 1.    ,  1.427 ,  2.0363],\n",
       "       [ 1.    ,  1.905 ,  3.629 ],\n",
       "       [ 1.    ,  1.946 ,  3.7869],\n",
       "       [ 1.    ,  2.133 ,  4.5497],\n",
       "       [ 1.    ,  2.438 ,  5.9438],\n",
       "       [ 1.    ,  2.71  ,  7.3441],\n",
       "       [ 1.    ,  2.896 ,  8.3868],\n",
       "       [ 1.    ,  2.994 ,  8.964 ]])"
      ]
     },
     "execution_count": 120,
     "metadata": {},
     "output_type": "execute_result"
    }
   ],
   "source": [
    "def model_regresi_6(X_train_1):\n",
    "    X_ones = np.ones((X_train_1.shape[0],1))\n",
    "    return np.hstack((X_ones , X_train_1 , X_train_1**2)) \n",
    "    \n",
    "X_matrix_6 = model_regresi_6(X_train_1)\n",
    "X_matrix_6"
   ]
  },
  {
   "cell_type": "code",
   "execution_count": 121,
   "metadata": {},
   "outputs": [
    {
     "data": {
      "text/plain": [
       "array([[  1.59  ],\n",
       "       [-18.725 ],\n",
       "       [ -1.4181]])"
      ]
     },
     "execution_count": 121,
     "metadata": {},
     "output_type": "execute_result"
    }
   ],
   "source": [
    "def normal_equation_6(X_matrix_6,Y_train_1):\n",
    "    Xt = X_matrix_6.conj().transpose()\n",
    "    return np.linalg.pinv(Xt.dot(X_matrix_6)).dot(Xt).dot(Y_train_1)\n",
    "\n",
    "w_6 = normal_equation_6(X_matrix_6, Y_train_1)\n",
    "w_6"
   ]
  },
  {
   "cell_type": "markdown",
   "metadata": {},
   "source": [
    "Answer 6\n",
    "====\n",
    "\n",
    "S"
   ]
  },
  {
   "cell_type": "markdown",
   "metadata": {},
   "source": [
    "Question 7\n",
    "=====\n",
    "\n",
    "Regresi multivariate linear dan regresi univariate non-linear keduanya lebih baik daripada regresi\n",
    "multivariate non-linear jika digunakan untuk pemodelan training set 2."
   ]
  },
  {
   "cell_type": "markdown",
   "metadata": {},
   "source": [
    "Answer 7\n",
    "====\n",
    "\n",
    "B"
   ]
  },
  {
   "cell_type": "code",
   "execution_count": 137,
   "metadata": {},
   "outputs": [],
   "source": [
    "def load_data_2(filename):\n",
    "    dtrain = pd.read_csv(filename, delimiter =',').as_matrix()\n",
    "    X1 = dtrain[:,0:1]\n",
    "    X2 = dtrain[:,1:2]\n",
    "    Y = dtrain[:,-1:]\n",
    "    return X1, X2,Y\n",
    "\n",
    "X_train_2_1, X_train_2_2, Y_train_2 = load_data_2('training_set_2.csv')\n",
    "\n",
    "#print(X_train_2_1)\n",
    "#print(X_train_2_2)\n",
    "#print(Y_train_2)"
   ]
  },
  {
   "cell_type": "markdown",
   "metadata": {},
   "source": [
    "Question 8\n",
    "=====\n",
    "\n",
    "Jika dibangun model regresi $y_i = f(x_i1, x_i2) = w_0+w_1x_i1+w_2x_i2+w_3(x_i1x_i2)+w4(x_i1+x_i2)3$ maka\n",
    "dihasilkan prakiraan weight vector $w = (w_0, w_1, w_2, w_3, w_4) = (4.514, -1.678, 1.842, -0.002, -0.005)$"
   ]
  },
  {
   "cell_type": "code",
   "execution_count": 159,
   "metadata": {},
   "outputs": [
    {
     "data": {
      "text/plain": [
       "array([[     1.    ,    -14.741 ,    -14.99  ,    220.9676, -26280.193 ],\n",
       "       [     1.    ,    -13.909 ,    -13.588 ,    188.9955, -20790.0695],\n",
       "       [     1.    ,    -13.511 ,    -12.161 ,    164.3073, -16919.1723],\n",
       "       [     1.    ,    -11.676 ,    -11.112 ,    129.7437, -11833.6476],\n",
       "       [     1.    ,    -11.182 ,     -9.973 ,    111.5181,  -9467.5823],\n",
       "       [     1.    ,    -10.355 ,     -8.59  ,     88.9494,  -6799.6073],\n",
       "       [     1.    ,    -10.153 ,     -8.248 ,     83.7419,  -6230.5197],\n",
       "       [     1.    ,     -8.75  ,     -7.99  ,     69.9125,  -4691.01  ],\n",
       "       [     1.    ,     -8.033 ,     -7.722 ,     62.0308,  -3910.7065],\n",
       "       [     1.    ,     -6.502 ,     -6.199 ,     40.3059,  -2048.8669],\n",
       "       [     1.    ,     -4.612 ,     -5.304 ,     24.462 ,   -975.0111],\n",
       "       [     1.    ,     -3.93  ,     -5.129 ,     20.157 ,   -743.4312],\n",
       "       [     1.    ,     -2.946 ,     -4.6   ,     13.5516,   -429.6852],\n",
       "       [     1.    ,     -2.768 ,     -4.305 ,     11.9162,   -353.8433],\n",
       "       [     1.    ,     -1.903 ,     -3.065 ,      5.8327,   -122.6153],\n",
       "       [     1.    ,     -1.351 ,     -1.861 ,      2.5142,    -33.138 ],\n",
       "       [     1.    ,     -0.877 ,      0.691 ,     -0.606 ,     -0.0064],\n",
       "       [     1.    ,      1.104 ,      1.226 ,      1.3535,     12.6493],\n",
       "       [     1.    ,      2.476 ,      1.577 ,      3.9047,     66.5779],\n",
       "       [     1.    ,      3.179 ,      2.78  ,      8.8376,    211.6022],\n",
       "       [     1.    ,      3.326 ,      3.684 ,     12.253 ,    344.4721],\n",
       "       [     1.    ,      3.748 ,      5.785 ,     21.6822,    866.3408],\n",
       "       [     1.    ,      5.558 ,      7.346 ,     40.8291,   2148.6865],\n",
       "       [     1.    ,      6.812 ,      7.455 ,     50.7835,   2904.0092],\n",
       "       [     1.    ,      7.384 ,      7.898 ,     58.3188,   3568.951 ],\n",
       "       [     1.    ,      7.863 ,      8.777 ,     69.0136,   4607.4429],\n",
       "       [     1.    ,      9.153 ,      9.309 ,     85.2053,   6292.6886],\n",
       "       [     1.    ,     10.053 ,      9.794 ,     98.4591,   7817.801 ],\n",
       "       [     1.    ,     10.707 ,      9.97  ,    106.7488,   8840.21  ],\n",
       "       [     1.    ,     11.527 ,     11.768 ,    135.6497,  12641.1954],\n",
       "       [     1.    ,     11.999 ,     12.885 ,    154.6071,  15408.5076],\n",
       "       [     1.    ,     12.966 ,     13.21  ,    171.2809,  17935.3496],\n",
       "       [     1.    ,     13.908 ,     14.414 ,    200.4699,  22718.0868],\n",
       "       [     1.    ,     14.984 ,     14.98  ,    224.4603,  26902.9166]])"
      ]
     },
     "execution_count": 159,
     "metadata": {},
     "output_type": "execute_result"
    }
   ],
   "source": [
    "def model_regresi_8(X_train_2_1, X_train_2_2):\n",
    "    X_ones = np.ones((X_train_2_1.shape[0],1)) \n",
    "    return np.hstack((X_ones , X_train_2_1 , X_train_2_2 , (X_train_2_1 * X_train_2_2), (X_train_2_1 + X_train_2_2)**3)) \n",
    "\n",
    "X_matrix_8 = model_regresi_8(X_train_2_1, X_train_2_2)\n",
    "X_matrix_8"
   ]
  },
  {
   "cell_type": "code",
   "execution_count": 160,
   "metadata": {},
   "outputs": [
    {
     "data": {
      "text/plain": [
       "array([[ 4.5143],\n",
       "       [-1.6783],\n",
       "       [ 1.8422],\n",
       "       [-0.0023],\n",
       "       [-0.0048]])"
      ]
     },
     "execution_count": 160,
     "metadata": {},
     "output_type": "execute_result"
    }
   ],
   "source": [
    "def normal_equation_8(X_matrix_8,Y_train_2):\n",
    "    Xt = X_matrix_8.conj().transpose()\n",
    "    return np.linalg.pinv(Xt.dot(X_matrix_8)).dot(Xt).dot(Y_train_2)\n",
    "\n",
    "w_8 = normal_equation_8(X_matrix_8, Y_train_2)\n",
    "w_8"
   ]
  },
  {
   "cell_type": "markdown",
   "metadata": {},
   "source": [
    "Answer 8\n",
    "====\n",
    "\n",
    "B"
   ]
  },
  {
   "cell_type": "markdown",
   "metadata": {},
   "source": [
    "Question 9\n",
    "=====\n",
    "\n",
    "Jika menggunakan model regresi $y_i = f(x_i1, x_i2) = 4.443-8.112x_i1 +3.028x_i2 -0.025x_i1 x_i2$ untuk input (x11, x12) = (-7.767,-7.111) dan (x21, x22) = (-0.333, 0.857) maka masing-masing diperoleh $y_1 = 44.536$ dan $y_2 = 9.746$"
   ]
  },
  {
   "cell_type": "code",
   "execution_count": 166,
   "metadata": {},
   "outputs": [
    {
     "name": "stdout",
     "output_type": "stream",
     "text": [
      "44.536017574999995\n",
      "9.746426524999999\n"
     ]
    }
   ],
   "source": [
    "y_test_1 = 4.443 - (8.112 * (-7.767)) + (3.028 * (-7.111)) - (0.025 * ((-7.767) * (-7.111)))\n",
    "y_test_2 = 4.443 - (8.112 * (-0.333)) + (3.028 * (0.857)) - (0.025 * ((-0.333) * (0.857)))\n",
    "                                         \n",
    "print(y_test_1)\n",
    "print(y_test_2)"
   ]
  },
  {
   "cell_type": "markdown",
   "metadata": {},
   "source": [
    "Answer 9\n",
    "====\n",
    "\n",
    "B"
   ]
  },
  {
   "cell_type": "markdown",
   "metadata": {},
   "source": [
    "Question 10\n",
    "======\n",
    "\n",
    "Jika dibangun model regresi $y_i = f(x_i1, x_i2) = w_0 + w_1 x_i^3 + w_2x_i^3$ maka dihasilkan prakiraan weight vector $w = (w_0,w_1,w_2) = (4.373,-0.022,-0.015)$"
   ]
  },
  {
   "cell_type": "code",
   "execution_count": 162,
   "metadata": {},
   "outputs": [
    {
     "data": {
      "text/plain": [
       "array([[    1.    , -3203.1763, -3368.2545],\n",
       "       [    1.    , -2690.839 , -2508.8033],\n",
       "       [    1.    , -2466.3942, -1798.4893],\n",
       "       [    1.    , -1591.7771, -1372.0714],\n",
       "       [    1.    , -1398.1651,  -991.9219],\n",
       "       [    1.    , -1110.3255,  -633.8398],\n",
       "       [    1.    , -1046.6059,  -561.1073],\n",
       "       [    1.    ,  -669.9219,  -510.0824],\n",
       "       [    1.    ,  -518.3622,  -460.4573],\n",
       "       [    1.    ,  -274.8786,  -238.2127],\n",
       "       [    1.    ,   -98.0997,  -149.2143],\n",
       "       [    1.    ,   -60.6985,  -134.9268],\n",
       "       [    1.    ,   -25.5681,   -97.336 ],\n",
       "       [    1.    ,   -21.2079,   -79.7847],\n",
       "       [    1.    ,    -6.8915,   -28.7933],\n",
       "       [    1.    ,    -2.4658,    -6.4452],\n",
       "       [    1.    ,    -0.6745,     0.3299],\n",
       "       [    1.    ,     1.3456,     1.8428],\n",
       "       [    1.    ,    15.1793,     3.9219],\n",
       "       [    1.    ,    32.1271,    21.485 ],\n",
       "       [    1.    ,    36.7931,    49.9987],\n",
       "       [    1.    ,    52.65  ,   193.6021],\n",
       "       [    1.    ,   171.6942,   396.4175],\n",
       "       [    1.    ,   316.0996,   414.3267],\n",
       "       [    1.    ,   402.6012,   492.6646],\n",
       "       [    1.    ,   486.1439,   676.1426],\n",
       "       [    1.    ,   766.8146,   806.6945],\n",
       "       [    1.    ,  1015.9844,   939.4643],\n",
       "       [    1.    ,  1227.4489,   991.027 ],\n",
       "       [    1.    ,  1531.6124,  1629.7012],\n",
       "       [    1.    ,  1727.568 ,  2139.2093],\n",
       "       [    1.    ,  2179.807 ,  2305.1992],\n",
       "       [    1.    ,  2690.2587,  2994.7016],\n",
       "       [    1.    ,  3364.2115,  3361.518 ]])"
      ]
     },
     "execution_count": 162,
     "metadata": {},
     "output_type": "execute_result"
    }
   ],
   "source": [
    "def model_regresi_10(X_train_2_1, X_train_2_2):\n",
    "    X_ones = np.ones((X_train_2_1.shape[0],1)) \n",
    "    return np.hstack((X_ones , (X_train_2_1**3) , (X_train_2_2**3))) \n",
    "\n",
    "X_matrix_10 = model_regresi_10(X_train_2_1, X_train_2_2)\n",
    "X_matrix_10"
   ]
  },
  {
   "cell_type": "code",
   "execution_count": 163,
   "metadata": {},
   "outputs": [
    {
     "data": {
      "text/plain": [
       "array([[ 4.3732],\n",
       "       [-0.022 ],\n",
       "       [-0.0152]])"
      ]
     },
     "execution_count": 163,
     "metadata": {},
     "output_type": "execute_result"
    }
   ],
   "source": [
    "def normal_equation_10(X_matrix_10,Y_train_2):\n",
    "    Xt = X_matrix_10.conj().transpose()\n",
    "    return np.linalg.pinv(Xt.dot(X_matrix_10)).dot(Xt).dot(Y_train_2)\n",
    "\n",
    "w_10 = normal_equation_10(X_matrix_10, Y_train_2)\n",
    "w_10"
   ]
  },
  {
   "cell_type": "markdown",
   "metadata": {},
   "source": [
    "Answer 10\n",
    "=====\n",
    "\n",
    "B"
   ]
  },
  {
   "cell_type": "markdown",
   "metadata": {},
   "source": [
    "Semua Jawaban\n",
    "=======\n",
    "\n",
    "1 B\n",
    "\n",
    "2 S\n",
    "\n",
    "3 S\n",
    "\n",
    "4 S\n",
    "\n",
    "5 B\n",
    "\n",
    "6 S\n",
    "\n",
    "7 B\n",
    "\n",
    "8 B\n",
    "\n",
    "9 B\n",
    "\n",
    "10 B"
   ]
  }
 ],
 "metadata": {
  "kernelspec": {
   "display_name": "Python 3",
   "language": "python",
   "name": "python3"
  },
  "language_info": {
   "codemirror_mode": {
    "name": "ipython",
    "version": 3
   },
   "file_extension": ".py",
   "mimetype": "text/x-python",
   "name": "python",
   "nbconvert_exporter": "python",
   "pygments_lexer": "ipython3",
   "version": "3.6.3"
  }
 },
 "nbformat": 4,
 "nbformat_minor": 2
}
